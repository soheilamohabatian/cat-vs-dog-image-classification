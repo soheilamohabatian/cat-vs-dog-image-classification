{
 "cells": [
  {
   "cell_type": "markdown",
   "id": "244f8cf2",
   "metadata": {},
   "source": []
  },
  {
   "cell_type": "code",
   "execution_count": 8,
   "id": "5d10e235",
   "metadata": {},
   "outputs": [],
   "source": [
    "import glob\n",
    "import cv2\n",
    "import numpy as np\n",
    "from sklearn.model_selection import train_test_split\n",
    "from sklearn.neighbors import KNeighborsClassifier\n",
    "from joblib import dump\n",
    "from sklearn.metrics import accuracy_score , f1_score ,recall_score,precision_score"
   ]
  },
  {
   "cell_type": "code",
   "execution_count": 9,
   "id": "642f206a",
   "metadata": {},
   "outputs": [
    {
     "name": "stdout",
     "output_type": "stream",
     "text": [
      "0/1000\n",
      "100/1000\n",
      "200/1000\n",
      "300/1000\n",
      "400/1000\n",
      "500/1000\n",
      "600/1000\n",
      "700/1000\n",
      "800/1000\n",
      "900/1000\n",
      "1000/1000\n",
      "1100/1000\n",
      "1200/1000\n",
      "1300/1000\n",
      "1400/1000\n",
      "1500/1000\n",
      "1600/1000\n",
      "1700/1000\n",
      "1800/1000\n",
      "1900/1000\n",
      "2000/1000\n",
      "58.70646766169154\n"
     ]
    }
   ],
   "source": [
    "data_list=[]\n",
    "label_list=[]\n",
    "for i,address in enumerate(glob.glob(r\"Q1\\*\\*\\*\")):\n",
    "    img=cv2.imread(address)\n",
    "    img=cv2.resize(img,(32,32))\n",
    "    img=img/255.5\n",
    "    img=img.flatten()\n",
    "    \n",
    "    data_list.append(img)\n",
    "\n",
    "    x=address.split(\"\\\\\")[-1].split(\".\")[0]\n",
    "    label_list.append(x)\n",
    "    if i%100==0:\n",
    "        print(f\"{i}/{1000}\")\n",
    "\n",
    "data_list=np.array(data_list)\n",
    "    \n",
    "\n",
    "x_train, x_test, y_train, y_test=train_test_split(data_list,label_list,test_size=0.2)\n",
    "\n",
    "clf=KNeighborsClassifier()\n",
    "clf.fit(x_train,y_train) \n",
    "dump(clf,\"Q.z\")\n",
    "acc=clf.score(x_test,y_test)\n",
    "print(acc*100)\n",
    "\n"
   ]
  },
  {
   "cell_type": "code",
   "execution_count": 10,
   "id": "daf4e5c0",
   "metadata": {},
   "outputs": [
    {
     "data": {
      "text/plain": [
       "59.11602209944752"
      ]
     },
     "execution_count": 10,
     "metadata": {},
     "output_type": "execute_result"
    }
   ],
   "source": [
    "from sklearn.metrics import accuracy_score , f1_score , recall_score, precision_score\n",
    "y_pred=clf.predict(x_test)\n",
    "accuracry=accuracy_score(y_test,y_pred)\n",
    "precision=precision_score(y_test, y_pred,pos_label=\"dog\")\n",
    "precision*100"
   ]
  },
  {
   "cell_type": "code",
   "execution_count": 11,
   "id": "508f83f2",
   "metadata": {},
   "outputs": [
    {
     "name": "stdout",
     "output_type": "stream",
     "text": [
      "presision: 59.11602209944752 recall: 53.768844221105525 f1: 56.315789473684205\n"
     ]
    }
   ],
   "source": [
    "\n",
    "recall= recall_score(y_test, y_pred, pos_label= \"dog\")\n",
    "recall*100\n",
    "f1=f1_score(y_test,y_pred,pos_label=\"dog\")\n",
    "print(\"presision:\",precision*100, 'recall:', recall*100,'f1:',f1*100)"
   ]
  }
 ],
 "metadata": {
  "kernelspec": {
   "display_name": "Python 3",
   "language": "python",
   "name": "python3"
  },
  "language_info": {
   "codemirror_mode": {
    "name": "ipython",
    "version": 3
   },
   "file_extension": ".py",
   "mimetype": "text/x-python",
   "name": "python",
   "nbconvert_exporter": "python",
   "pygments_lexer": "ipython3",
   "version": "3.12.7"
  }
 },
 "nbformat": 4,
 "nbformat_minor": 5
}
