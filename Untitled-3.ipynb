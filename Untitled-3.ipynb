{
 "cells": [
  {
   "cell_type": "code",
   "execution_count": 1,
   "id": "255afe41",
   "metadata": {},
   "outputs": [],
   "source": [
    "import cv2\n",
    "from joblib import load\n",
    "import glob\n",
    "import numpy as np"
   ]
  },
  {
   "cell_type": "code",
   "execution_count": 2,
   "id": "9f6d6f2c",
   "metadata": {},
   "outputs": [],
   "source": [
    "clf=load(\"Q.z\")\n",
    "for address in glob.glob(r\"testme\\*\"):\n",
    "    img=cv2.imread(address)\n",
    "    img_r=cv2.resize(img,(32,32))\n",
    "    img_r=img_r/255.5\n",
    "    img_r=img_r.flatten()\n",
    "    \n",
    "    img_r=np.array([img_r])\n",
    "    pre=clf.predict(img_r)[0]\n",
    "    cv2.putText(img,str(pre),(100,100),cv2.FONT_HERSHEY_SIMPLEX, 2,(255,255,255),2)\n",
    "    cv2.imshow(\"img\",img)\n",
    "    cv2.waitKey(0)\n"
   ]
  }
 ],
 "metadata": {
  "kernelspec": {
   "display_name": "Python 3",
   "language": "python",
   "name": "python3"
  },
  "language_info": {
   "codemirror_mode": {
    "name": "ipython",
    "version": 3
   },
   "file_extension": ".py",
   "mimetype": "text/x-python",
   "name": "python",
   "nbconvert_exporter": "python",
   "pygments_lexer": "ipython3",
   "version": "3.12.7"
  }
 },
 "nbformat": 4,
 "nbformat_minor": 5
}
